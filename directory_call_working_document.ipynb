{
 "cells": [
  {
   "cell_type": "code",
   "execution_count": 1,
   "metadata": {},
   "outputs": [],
   "source": [
    "import re, requests\n",
    "from bs4 import BeautifulSoup "
   ]
  },
  {
   "cell_type": "code",
   "execution_count": 2,
   "metadata": {},
   "outputs": [],
   "source": [
    "url = \"http://profiles.ucsf.edu/sitemap.xml\"\n",
    "r = requests.get(url)\n",
    "soup = BeautifulSoup(r.text)\n",
    "names = soup.find_all('loc')"
   ]
  },
  {
   "cell_type": "code",
   "execution_count": 3,
   "metadata": {},
   "outputs": [],
   "source": [
    "faculty_names = []\n",
    "for n in names:\n",
    "\tfaculty_names.append(str(n).split('/')[3][:-1])"
   ]
  },
  {
   "cell_type": "code",
   "execution_count": 4,
   "metadata": {},
   "outputs": [
    {
     "name": "stdout",
     "output_type": "stream",
     "text": [
      "katie.vuchkov\n"
     ]
    }
   ],
   "source": [
    "del faculty_names[0:10]\n",
    "print(faculty_names[0])"
   ]
  },
  {
   "cell_type": "code",
   "execution_count": 5,
   "metadata": {},
   "outputs": [
    {
     "name": "stdout",
     "output_type": "stream",
     "text": [
      "katie%20vuchkov\n"
     ]
    }
   ],
   "source": [
    "names20 = []\n",
    "for n in faculty_names:\n",
    "\tnames20.append(n.replace(\".\", \"%20\"))\n",
    "print(names20[0])"
   ]
  },
  {
   "cell_type": "code",
   "execution_count": 6,
   "metadata": {},
   "outputs": [
    {
     "name": "stdout",
     "output_type": "stream",
     "text": [
      "https://directory.ucsf.edu/people/search/name/katie%20vuchkov/json\n",
      "9797\n"
     ]
    }
   ],
   "source": [
    "json = '/json'\n",
    "jsonurl = 'https://directory.ucsf.edu/people/search/name/'\n",
    "names20json = [jsonurl + n + json for n in names20]\n",
    "print(names20json[0])\n",
    "print(len(names20json))"
   ]
  },
  {
   "cell_type": "code",
   "execution_count": 7,
   "metadata": {},
   "outputs": [],
   "source": [
    "def getFacultyJSON(list):\n",
    "\tallFacultyJson = []\n",
    "\tfor n in list:\n",
    "\t\tr = requests.get(n)\n",
    "\t\t# r.json()\n",
    "\t\tresponse = r.json()\n",
    "\t\tallFacultyJson.append(response)\n",
    "\treturn allFacultyJson\n",
    "\n",
    "allResponses = getFacultyJSON(names20json[:3])"
   ]
  },
  {
   "cell_type": "code",
   "execution_count": 8,
   "metadata": {},
   "outputs": [
    {
     "name": "stdout",
     "output_type": "stream",
     "text": [
      "[{'data': [{'displayname': ['Katie Vuchkov'], 'ucsfeduworkingtitle': ['RESIDENT PHYSICIAN'], 'ucsfeduprimarydepartmentnumber': ['122501'], 'departmentnumber': ['122501', '120095', '471068'], 'postaladdress': ['UCSF FRESNO\\n155 N. FRESNO ST.\\nFRESNO, CA 93701'], 'uid': ['66357'], 'ucsfedudegree': ['MD'], 'ucsfeduprofilenodeid': ['161257740'], 'ucsfeduentryreleasecode': ['1'], 'givenname': ['Katherine'], 'sn': ['Vuchkov'], 'ucsfeduprimaryaddresstype': ['Private Practice Address'], 'ucsfedupreferredgivenname': ['Katie'], 'mail': ['kvuchkov@fresno.ucsf.edu'], 'ucsfedumailreleasecode': ['1'], 'box': [''], 'baseaddress': ['UCSF FRESNO\\n155 N. FRESNO ST.\\nFRESNO, CA 93701'], 'primary': {'box': [''], 'building': [''], 'baseaddress': ['UCSF FRESNO\\n155 N. FRESNO ST.\\nFRESNO, CA 93701'], 'addressline1': ['UCSF FRESNO'], 'addressline2': ['155 N. FRESNO ST.'], 'city': ['FRESNO'], 'state': ['CA'], 'zip5': ['93701'], 'zip4': [''], 'rawaddress': ['UCSF FRESNO\\n155 N. FRESNO ST.\\nFRESNO, CA 93701'], 'postaladdress': ['UCSF FRESNO\\n155 N. FRESNO ST.\\nFRESNO, CA 93701'], 'cn': ['Private Practice'], 'ucsfeduaddressprimaryflag': ['true'], 'roomnumber': [None], 'telephonenumber': [None], 'ucsfedusecondarytelephonenumber': [None], 'ucsfedutelephonenumberreleasecode': [None], 'ucsfedusecondarytelephonenumberreleasecode': [None]}, 'secondary': {'box': [''], 'building': [''], 'baseaddress': ['155 N Fresno St\\nFresno, CA 93701'], 'addressline1': ['155 N Fresno St'], 'addressline2': ['Fresno, CA 93701'], 'zip4': [''], 'zip5': [''], 'state': [''], 'city': [''], 'rawaddress': ['155 N Fresno St\\nFresno, CA 93701'], 'postaladdress': ['155 N Fresno St\\nFresno, CA 93701'], 'cn': ['Campus'], 'ucsfeduaddressprimaryflag': ['false'], 'roomnumber': [None], 'telephonenumber': ['+1 559 499-6400'], 'ucsfedusecondarytelephonenumber': [None], 'ucsfedutelephonenumberreleasecode': ['1'], 'ucsfedusecondarytelephonenumberreleasecode': [None]}, 'departmentname': ['M_DO-Assoc Dean Fresno']}]}, {'data': [{'displayname': ['Valerie Flaherman'], 'ucsfeduworkingtitle': ['Assoc Professor in Residence'], 'ucsfeduprimarydepartmentnumber': ['136224'], 'departmentnumber': ['136224', '112103', '123024', '126612', '135112', '126611', '136202'], 'postaladdress': ['Box 0503\\n3333 California Street\\nSan Francisco, CA 94118'], 'uid': ['31'], 'ucsfedudegree': ['MD'], 'roomnumber': ['250K'], 'ucsfeduprofilenodeid': ['365861'], 'ucsfeduentryreleasecode': ['1'], 'givenname': ['Valerie'], 'sn': ['Flaherman'], 'ucsfedubuildingcode': ['2450'], 'ucsfedufloor': ['02'], 'ucsfeduprimaryaddresstype': ['Campus Address'], 'mail': ['Valerie.Flaherman@ucsf.edu'], 'telephonenumber': ['+1 415 502-6266'], 'pager': ['+1 415 443-5562'], 'facsimiletelephonenumber': ['+1 415 476-6106'], 'ucsfedumailreleasecode': ['1'], 'ucsfedutelephonenumberreleasecode': ['1'], 'ucsfedumobilereleasecode': ['9'], 'ucsfedupagerreleasecode': ['1'], 'ucsfedufacsimiletelephonenumberreleasecode': ['1'], 'box': ['0503'], 'baseaddress': ['3333 California Street\\nSan Francisco, CA 94118'], 'primary': {'box': ['0503'], 'building': [''], 'baseaddress': ['3333 California Street\\nSan Francisco, CA 94118'], 'addressline1': ['3333 California Street'], 'addressline2': ['San Francisco, CA 94118'], 'zip4': [''], 'zip5': [''], 'state': [''], 'city': [''], 'rawaddress': ['3333 California Street\\nSan Francisco, CA 94118'], 'postaladdress': ['Box 0503\\n3333 California Street\\nSan Francisco, CA 94118'], 'cn': ['Campus'], 'ucsfeduaddressprimaryflag': ['true'], 'roomnumber': ['250K'], 'telephonenumber': ['+1 415 502-6266'], 'ucsfedusecondarytelephonenumber': ['+1 415 502-7885'], 'ucsfedutelephonenumberreleasecode': ['1'], 'ucsfedusecondarytelephonenumberreleasecode': ['1']}, 'departmentname': ['M_PEDS-GENERAL PEDIATRICS']}]}, {'data': [{'displayname': ['Tippi Mackenzie'], 'ucsfeduworkingtitle': ['ASSOC PROF IN RES-HCOMP'], 'ucsfeduprimarydepartmentnumber': ['148200'], 'departmentnumber': ['148200', '123038', '136271', '148202', '148223', '412278'], 'uid': ['49'], 'ucsfedudegree': ['MD'], 'ucsfeduprofilenodeid': ['365069'], 'ucsfeduentryreleasecode': ['1'], 'givenname': ['Tippi'], 'sn': ['Mackenzie'], 'ucsfeduprimaryaddresstype': ['Private Practice Address'], 'mail': ['Tippi.MacKenzie@ucsf.edu'], 'telephonenumber': ['+1 415 476-2538'], 'pager': ['+1 415 443-9930'], 'facsimiletelephonenumber': ['+1 415 476-2314'], 'ucsfedumailreleasecode': ['1'], 'ucsfedutelephonenumberreleasecode': ['1'], 'ucsfedupagerreleasecode': ['3'], 'ucsfedufacsimiletelephonenumberreleasecode': ['1'], 'secondary': {'box': ['0570'], 'building': [''], 'baseaddress': ['550 16th Street\\nSan Francisco, CA 94158'], 'addressline1': ['550 16th Street'], 'addressline2': ['San Francisco, CA 94158'], 'zip4': [''], 'zip5': [''], 'state': [''], 'city': [''], 'rawaddress': ['550 16th Street\\nSan Francisco, CA 94158'], 'postaladdress': ['Box 0570\\n550 16th Street\\nSan Francisco, CA 94158'], 'cn': ['Campus'], 'ucsfeduaddressprimaryflag': ['false'], 'roomnumber': ['5553'], 'telephonenumber': ['+1 415 476-2479'], 'ucsfedusecondarytelephonenumber': [None], 'ucsfedutelephonenumberreleasecode': ['1'], 'ucsfedusecondarytelephonenumberreleasecode': [None]}, 'primary': {'box': [''], 'building': [''], 'baseaddress': [''], 'addressline1': [''], 'addressline2': [None], 'zip4': [''], 'zip5': [''], 'state': [''], 'city': [''], 'rawaddress': [''], 'postaladdress': [''], 'cn': ['Private Practice'], 'ucsfeduaddressprimaryflag': ['true'], 'roomnumber': [None], 'telephonenumber': ['+1 415 476-2538'], 'ucsfedusecondarytelephonenumber': [None], 'ucsfedutelephonenumberreleasecode': ['1'], 'ucsfedusecondarytelephonenumberreleasecode': [None]}, 'departmentname': ['M_Surgery']}]}]\n"
     ]
    }
   ],
   "source": [
    "print(allResponses)"
   ]
  },
  {
   "cell_type": "code",
   "execution_count": 8,
   "metadata": {},
   "outputs": [
    {
     "name": "stdout",
     "output_type": "stream",
     "text": [
      "['Katie Vuchkov']\n"
     ]
    }
   ],
   "source": [
    "print(allResponses[0][\"data\"][0][\"displayname\"])"
   ]
  },
  {
   "cell_type": "code",
   "execution_count": 9,
   "metadata": {},
   "outputs": [
    {
     "name": "stdout",
     "output_type": "stream",
     "text": [
      "['Katie Vuchkov']\n",
      "['Valerie Flaherman']\n",
      "['Mariela Mendoza']\n"
     ]
    }
   ],
   "source": [
    "for ar in allResponses:\n",
    "\tprint(ar[\"data\"][0][\"displayname\"])"
   ]
  },
  {
   "cell_type": "code",
   "execution_count": 10,
   "metadata": {},
   "outputs": [
    {
     "name": "stdout",
     "output_type": "stream",
     "text": [
      "displayname\n",
      "['Katie Vuchkov']\n",
      "ucsfeduworkingtitle\n",
      "['RESIDENT PHYSICIAN']\n",
      "ucsfeduprimarydepartmentnumber\n",
      "['122501']\n",
      "departmentnumber\n",
      "['122501', '120095', '471068']\n",
      "postaladdress\n",
      "['UCSF FRESNO\\n155 N. FRESNO ST.\\nFRESNO, CA 93701']\n",
      "uid\n",
      "['66357']\n",
      "ucsfedudegree\n",
      "['MD']\n",
      "ucsfeduentryreleasecode\n",
      "['1']\n",
      "givenname\n",
      "['Katherine']\n",
      "sn\n",
      "['Vuchkov']\n",
      "ucsfeduprimaryaddresstype\n",
      "['Private Practice Address']\n",
      "ucsfedupreferredgivenname\n",
      "['Katie']\n",
      "mail\n",
      "['kvuchkov@fresno.ucsf.edu']\n",
      "ucsfedumailreleasecode\n",
      "['1']\n",
      "box\n",
      "['']\n",
      "baseaddress\n",
      "['UCSF FRESNO\\n155 N. FRESNO ST.\\nFRESNO, CA 93701']\n",
      "primary\n",
      "{'box': [''], 'building': [''], 'baseaddress': ['UCSF FRESNO\\n155 N. FRESNO ST.\\nFRESNO, CA 93701'], 'addressline1': ['UCSF FRESNO'], 'addressline2': ['155 N. FRESNO ST.'], 'city': ['FRESNO'], 'state': ['CA'], 'zip5': ['93701'], 'zip4': [''], 'rawaddress': ['UCSF FRESNO\\n155 N. FRESNO ST.\\nFRESNO, CA 93701'], 'postaladdress': ['UCSF FRESNO\\n155 N. FRESNO ST.\\nFRESNO, CA 93701'], 'cn': ['Private Practice'], 'ucsfeduaddressprimaryflag': ['true'], 'roomnumber': [None], 'telephonenumber': [None], 'ucsfedusecondarytelephonenumber': [None], 'ucsfedutelephonenumberreleasecode': [None], 'ucsfedusecondarytelephonenumberreleasecode': [None]}\n",
      "secondary\n",
      "{'box': [''], 'building': [''], 'baseaddress': ['155 N Fresno St\\nFresno, CA 93701'], 'addressline1': ['155 N Fresno St'], 'addressline2': ['Fresno, CA 93701'], 'zip4': [''], 'zip5': [''], 'state': [''], 'city': [''], 'rawaddress': ['155 N Fresno St\\nFresno, CA 93701'], 'postaladdress': ['155 N Fresno St\\nFresno, CA 93701'], 'cn': ['Campus'], 'ucsfeduaddressprimaryflag': ['false'], 'roomnumber': [None], 'telephonenumber': ['+1 559 499-6400'], 'ucsfedusecondarytelephonenumber': [None], 'ucsfedutelephonenumberreleasecode': ['1'], 'ucsfedusecondarytelephonenumberreleasecode': [None]}\n",
      "departmentname\n",
      "['M_DO-Fres-Assoc Dean']\n",
      "displayname\n",
      "['Valerie Flaherman']\n",
      "ucsfeduworkingtitle\n",
      "['Assoc Professor in Residence']\n",
      "ucsfeduprimarydepartmentnumber\n",
      "['136224']\n",
      "departmentnumber\n",
      "['136224', '112103', '135112', '126611', '136202']\n",
      "postaladdress\n",
      "['Box 0503\\n3333 California Street\\nSan Francisco, CA 94118']\n",
      "uid\n",
      "['31']\n",
      "ucsfedudegree\n",
      "['MD']\n",
      "roomnumber\n",
      "['245']\n",
      "ucsfeduentryreleasecode\n",
      "['1']\n",
      "givenname\n",
      "['Valerie']\n",
      "sn\n",
      "['Flaherman']\n",
      "ucsfedubuildingcode\n",
      "['2450']\n",
      "ucsfedufloor\n",
      "['02']\n",
      "ucsfeduprimaryaddresstype\n",
      "['Campus Address']\n",
      "mail\n",
      "['Valerie.Flaherman@ucsf.edu']\n",
      "telephonenumber\n",
      "['+1 415 502-6266']\n",
      "pager\n",
      "['+1 415 443-5562']\n",
      "facsimiletelephonenumber\n",
      "['+1 415 476-6106']\n",
      "ucsfedumailreleasecode\n",
      "['1']\n",
      "ucsfedutelephonenumberreleasecode\n",
      "['1']\n",
      "ucsfedumobilereleasecode\n",
      "['9']\n",
      "ucsfedupagerreleasecode\n",
      "['1']\n",
      "ucsfedufacsimiletelephonenumberreleasecode\n",
      "['1']\n",
      "box\n",
      "['0503']\n",
      "baseaddress\n",
      "['3333 California Street\\nSan Francisco, CA 94118']\n",
      "primary\n",
      "{'box': ['0503'], 'building': [''], 'baseaddress': ['3333 California Street\\nSan Francisco, CA 94118'], 'addressline1': ['3333 California Street'], 'addressline2': ['San Francisco, CA 94118'], 'zip4': [''], 'zip5': [''], 'state': [''], 'city': [''], 'rawaddress': ['3333 California Street\\nSan Francisco, CA 94118'], 'postaladdress': ['Box 0503\\n3333 California Street\\nSan Francisco, CA 94118'], 'cn': ['Campus'], 'ucsfeduaddressprimaryflag': ['true'], 'roomnumber': ['245'], 'telephonenumber': ['+1 415 502-6266'], 'ucsfedusecondarytelephonenumber': ['+1 415 502-7885'], 'ucsfedutelephonenumberreleasecode': ['1'], 'ucsfedusecondarytelephonenumberreleasecode': ['1']}\n",
      "departmentname\n",
      "['M_PEDS-GENERAL PEDIATRICS']\n",
      "displayname\n",
      "['Mariela Mendoza']\n",
      "ucsfeduworkingtitle\n",
      "['Staff Research Associate I']\n",
      "ucsfeduprimarydepartmentnumber\n",
      "['122501']\n",
      "departmentnumber\n",
      "['122501', '123024']\n",
      "postaladdress\n",
      "['155 N Fresno St\\nFresno, CA 93701']\n",
      "uid\n",
      "['152557']\n",
      "roomnumber\n",
      "['233']\n",
      "ucsfeduentryreleasecode\n",
      "['1']\n",
      "givenname\n",
      "['Mariela']\n",
      "sn\n",
      "['Mendoza']\n",
      "ucsfedubuildingcode\n",
      "['3029']\n",
      "ucsfedufloor\n",
      "['02']\n",
      "ucsfeduprimaryaddresstype\n",
      "['Campus Address']\n",
      "mail\n",
      "['mmendoza@fresno.ucsf.edu']\n",
      "ucsfedumailreleasecode\n",
      "['1']\n",
      "box\n",
      "['']\n",
      "baseaddress\n",
      "['155 N Fresno St\\nFresno, CA 93701']\n",
      "primary\n",
      "{'box': [''], 'building': [''], 'baseaddress': ['155 N Fresno St\\nFresno, CA 93701'], 'addressline1': ['155 N Fresno St'], 'addressline2': ['Fresno, CA 93701'], 'zip4': [''], 'zip5': [''], 'state': [''], 'city': [''], 'rawaddress': ['155 N Fresno St\\nFresno, CA 93701'], 'postaladdress': ['155 N Fresno St\\nFresno, CA 93701'], 'cn': ['Campus'], 'ucsfeduaddressprimaryflag': ['true'], 'roomnumber': ['233'], 'telephonenumber': [None], 'ucsfedusecondarytelephonenumber': [None], 'ucsfedutelephonenumberreleasecode': [None], 'ucsfedusecondarytelephonenumberreleasecode': [None]}\n",
      "departmentname\n",
      "['M_DO-Fres-Assoc Dean']\n"
     ]
    }
   ],
   "source": [
    "for ar in allResponses:\n",
    "\tfor d in ar[\"data\"][0]:\n",
    "\t\tprint(d)\n",
    "\t\tprint(ar[\"data\"][0][d])"
   ]
  },
  {
   "cell_type": "code",
   "execution_count": 11,
   "metadata": {},
   "outputs": [
    {
     "name": "stdout",
     "output_type": "stream",
     "text": [
      "dict_keys(['displayname', 'ucsfeduworkingtitle', 'ucsfeduprimarydepartmentnumber', 'departmentnumber', 'postaladdress', 'uid', 'ucsfedudegree', 'ucsfeduentryreleasecode', 'givenname', 'sn', 'ucsfeduprimaryaddresstype', 'ucsfedupreferredgivenname', 'mail', 'ucsfedumailreleasecode', 'box', 'baseaddress', 'primary', 'secondary', 'departmentname'])\n"
     ]
    }
   ],
   "source": [
    "print(allResponses[0][\"data\"][0].keys())"
   ]
  },
  {
   "cell_type": "code",
   "execution_count": 13,
   "metadata": {
    "collapsed": true
   },
   "outputs": [],
   "source": [
    "#make a data frame from the allResponses list so I can do SQL joins to the data\n",
    "#d = {'Department' : [allResponses[1][\"data\"][0][\"departmentname\"]], 'Email':[allResponses[1][\"data\"][0][\"mail\"]]}"
   ]
  },
  {
   "cell_type": "code",
   "execution_count": 12,
   "metadata": {},
   "outputs": [],
   "source": [
    "import pandas as pd"
   ]
  },
  {
   "cell_type": "code",
   "execution_count": 13,
   "metadata": {},
   "outputs": [
    {
     "name": "stdout",
     "output_type": "stream",
     "text": [
      "['Katie Vuchkov', 'Valerie Flaherman', 'Mariela Mendoza']\n"
     ]
    }
   ],
   "source": [
    "displayname = []\n",
    "givenname = []\n",
    "sn = []\n",
    "ucsfeduworkingtitle = []\n",
    "ucsfedudegree = []\n",
    "mail = []\n",
    "departmentname = []\n",
    "ucsfedudegree = []\n",
    "\n",
    "for ar in allResponses:\n",
    "    #displayname_flag = 0\n",
    "    for d in ar[\"data\"][0]:\n",
    "        if d == \"displayname\":\n",
    "            displayname.append(ar[\"data\"][0][d][0])\n",
    "            #displayname_flag = 1\n",
    "        if d == \"ucsfeduworkingtitle\":\n",
    "            ucsfeduworkingtitle.append(ar[\"data\"][0][d][0])\n",
    "        if d == \"mail\":\n",
    "            mail.append(ar[\"data\"][0][d][0])\n",
    "        if d == \"givenname\":\n",
    "            givenname.append(ar[\"data\"][0][d][0])\n",
    "        if d == \"sn\":\n",
    "            sn.append(ar[\"data\"][0][d][0])\n",
    "        if d == \"departmentname\":\n",
    "            departmentname.append(ar[\"data\"][0][d][0])\n",
    "        if d == \"ucsfedudegree\":\n",
    "            ucsfedudegree.append(ar[\"data\"][0][d][0])\n",
    "print(displayname)"
   ]
  },
  {
   "cell_type": "code",
   "execution_count": 15,
   "metadata": {},
   "outputs": [
    {
     "ename": "ValueError",
     "evalue": "arrays must all be same length",
     "output_type": "error",
     "traceback": [
      "\u001b[1;31m---------------------------------------------------------------------------\u001b[0m",
      "\u001b[1;31mValueError\u001b[0m                                Traceback (most recent call last)",
      "\u001b[1;32m<ipython-input-15-56d5e1903be7>\u001b[0m in \u001b[0;36m<module>\u001b[1;34m\u001b[0m\n\u001b[0;32m      1\u001b[0m directorydf = pd.DataFrame({'displayname' : displayname, 'ucsfeduworkingtitle' : ucsfeduworkingtitle, \n\u001b[0;32m      2\u001b[0m                            \u001b[1;34m'mail'\u001b[0m \u001b[1;33m:\u001b[0m \u001b[0mmail\u001b[0m\u001b[1;33m,\u001b[0m \u001b[1;34m'givenname'\u001b[0m \u001b[1;33m:\u001b[0m \u001b[0mgivenname\u001b[0m\u001b[1;33m,\u001b[0m \u001b[1;34m'sn'\u001b[0m \u001b[1;33m:\u001b[0m \u001b[0msn\u001b[0m\u001b[1;33m,\u001b[0m \u001b[1;34m'departmentname'\u001b[0m \u001b[1;33m:\u001b[0m\u001b[1;33m\u001b[0m\u001b[1;33m\u001b[0m\u001b[0m\n\u001b[1;32m----> 3\u001b[1;33m                             departmentname, 'ucsfedudegree' : ucsfedudegree})\n\u001b[0m",
      "\u001b[1;32m~\\anaconda3\\lib\\site-packages\\pandas\\core\\frame.py\u001b[0m in \u001b[0;36m__init__\u001b[1;34m(self, data, index, columns, dtype, copy)\u001b[0m\n\u001b[0;32m    346\u001b[0m                                  dtype=dtype, copy=copy)\n\u001b[0;32m    347\u001b[0m         \u001b[1;32melif\u001b[0m \u001b[0misinstance\u001b[0m\u001b[1;33m(\u001b[0m\u001b[0mdata\u001b[0m\u001b[1;33m,\u001b[0m \u001b[0mdict\u001b[0m\u001b[1;33m)\u001b[0m\u001b[1;33m:\u001b[0m\u001b[1;33m\u001b[0m\u001b[1;33m\u001b[0m\u001b[0m\n\u001b[1;32m--> 348\u001b[1;33m             \u001b[0mmgr\u001b[0m \u001b[1;33m=\u001b[0m \u001b[0mself\u001b[0m\u001b[1;33m.\u001b[0m\u001b[0m_init_dict\u001b[0m\u001b[1;33m(\u001b[0m\u001b[0mdata\u001b[0m\u001b[1;33m,\u001b[0m \u001b[0mindex\u001b[0m\u001b[1;33m,\u001b[0m \u001b[0mcolumns\u001b[0m\u001b[1;33m,\u001b[0m \u001b[0mdtype\u001b[0m\u001b[1;33m=\u001b[0m\u001b[0mdtype\u001b[0m\u001b[1;33m)\u001b[0m\u001b[1;33m\u001b[0m\u001b[1;33m\u001b[0m\u001b[0m\n\u001b[0m\u001b[0;32m    349\u001b[0m         \u001b[1;32melif\u001b[0m \u001b[0misinstance\u001b[0m\u001b[1;33m(\u001b[0m\u001b[0mdata\u001b[0m\u001b[1;33m,\u001b[0m \u001b[0mma\u001b[0m\u001b[1;33m.\u001b[0m\u001b[0mMaskedArray\u001b[0m\u001b[1;33m)\u001b[0m\u001b[1;33m:\u001b[0m\u001b[1;33m\u001b[0m\u001b[1;33m\u001b[0m\u001b[0m\n\u001b[0;32m    350\u001b[0m             \u001b[1;32mimport\u001b[0m \u001b[0mnumpy\u001b[0m\u001b[1;33m.\u001b[0m\u001b[0mma\u001b[0m\u001b[1;33m.\u001b[0m\u001b[0mmrecords\u001b[0m \u001b[1;32mas\u001b[0m \u001b[0mmrecords\u001b[0m\u001b[1;33m\u001b[0m\u001b[1;33m\u001b[0m\u001b[0m\n",
      "\u001b[1;32m~\\anaconda3\\lib\\site-packages\\pandas\\core\\frame.py\u001b[0m in \u001b[0;36m_init_dict\u001b[1;34m(self, data, index, columns, dtype)\u001b[0m\n\u001b[0;32m    457\u001b[0m             \u001b[0marrays\u001b[0m \u001b[1;33m=\u001b[0m \u001b[1;33m[\u001b[0m\u001b[0mdata\u001b[0m\u001b[1;33m[\u001b[0m\u001b[0mk\u001b[0m\u001b[1;33m]\u001b[0m \u001b[1;32mfor\u001b[0m \u001b[0mk\u001b[0m \u001b[1;32min\u001b[0m \u001b[0mkeys\u001b[0m\u001b[1;33m]\u001b[0m\u001b[1;33m\u001b[0m\u001b[1;33m\u001b[0m\u001b[0m\n\u001b[0;32m    458\u001b[0m \u001b[1;33m\u001b[0m\u001b[0m\n\u001b[1;32m--> 459\u001b[1;33m         \u001b[1;32mreturn\u001b[0m \u001b[0m_arrays_to_mgr\u001b[0m\u001b[1;33m(\u001b[0m\u001b[0marrays\u001b[0m\u001b[1;33m,\u001b[0m \u001b[0mdata_names\u001b[0m\u001b[1;33m,\u001b[0m \u001b[0mindex\u001b[0m\u001b[1;33m,\u001b[0m \u001b[0mcolumns\u001b[0m\u001b[1;33m,\u001b[0m \u001b[0mdtype\u001b[0m\u001b[1;33m=\u001b[0m\u001b[0mdtype\u001b[0m\u001b[1;33m)\u001b[0m\u001b[1;33m\u001b[0m\u001b[1;33m\u001b[0m\u001b[0m\n\u001b[0m\u001b[0;32m    460\u001b[0m \u001b[1;33m\u001b[0m\u001b[0m\n\u001b[0;32m    461\u001b[0m     \u001b[1;32mdef\u001b[0m \u001b[0m_init_ndarray\u001b[0m\u001b[1;33m(\u001b[0m\u001b[0mself\u001b[0m\u001b[1;33m,\u001b[0m \u001b[0mvalues\u001b[0m\u001b[1;33m,\u001b[0m \u001b[0mindex\u001b[0m\u001b[1;33m,\u001b[0m \u001b[0mcolumns\u001b[0m\u001b[1;33m,\u001b[0m \u001b[0mdtype\u001b[0m\u001b[1;33m=\u001b[0m\u001b[1;32mNone\u001b[0m\u001b[1;33m,\u001b[0m \u001b[0mcopy\u001b[0m\u001b[1;33m=\u001b[0m\u001b[1;32mFalse\u001b[0m\u001b[1;33m)\u001b[0m\u001b[1;33m:\u001b[0m\u001b[1;33m\u001b[0m\u001b[1;33m\u001b[0m\u001b[0m\n",
      "\u001b[1;32m~\\anaconda3\\lib\\site-packages\\pandas\\core\\frame.py\u001b[0m in \u001b[0;36m_arrays_to_mgr\u001b[1;34m(arrays, arr_names, index, columns, dtype)\u001b[0m\n\u001b[0;32m   7354\u001b[0m     \u001b[1;31m# figure out the index, if necessary\u001b[0m\u001b[1;33m\u001b[0m\u001b[1;33m\u001b[0m\u001b[1;33m\u001b[0m\u001b[0m\n\u001b[0;32m   7355\u001b[0m     \u001b[1;32mif\u001b[0m \u001b[0mindex\u001b[0m \u001b[1;32mis\u001b[0m \u001b[1;32mNone\u001b[0m\u001b[1;33m:\u001b[0m\u001b[1;33m\u001b[0m\u001b[1;33m\u001b[0m\u001b[0m\n\u001b[1;32m-> 7356\u001b[1;33m         \u001b[0mindex\u001b[0m \u001b[1;33m=\u001b[0m \u001b[0mextract_index\u001b[0m\u001b[1;33m(\u001b[0m\u001b[0marrays\u001b[0m\u001b[1;33m)\u001b[0m\u001b[1;33m\u001b[0m\u001b[1;33m\u001b[0m\u001b[0m\n\u001b[0m\u001b[0;32m   7357\u001b[0m \u001b[1;33m\u001b[0m\u001b[0m\n\u001b[0;32m   7358\u001b[0m     \u001b[1;31m# don't force copy because getting jammed in an ndarray anyway\u001b[0m\u001b[1;33m\u001b[0m\u001b[1;33m\u001b[0m\u001b[1;33m\u001b[0m\u001b[0m\n",
      "\u001b[1;32m~\\anaconda3\\lib\\site-packages\\pandas\\core\\frame.py\u001b[0m in \u001b[0;36mextract_index\u001b[1;34m(data)\u001b[0m\n\u001b[0;32m   7400\u001b[0m             \u001b[0mlengths\u001b[0m \u001b[1;33m=\u001b[0m \u001b[0mlist\u001b[0m\u001b[1;33m(\u001b[0m\u001b[0mset\u001b[0m\u001b[1;33m(\u001b[0m\u001b[0mraw_lengths\u001b[0m\u001b[1;33m)\u001b[0m\u001b[1;33m)\u001b[0m\u001b[1;33m\u001b[0m\u001b[1;33m\u001b[0m\u001b[0m\n\u001b[0;32m   7401\u001b[0m             \u001b[1;32mif\u001b[0m \u001b[0mlen\u001b[0m\u001b[1;33m(\u001b[0m\u001b[0mlengths\u001b[0m\u001b[1;33m)\u001b[0m \u001b[1;33m>\u001b[0m \u001b[1;36m1\u001b[0m\u001b[1;33m:\u001b[0m\u001b[1;33m\u001b[0m\u001b[1;33m\u001b[0m\u001b[0m\n\u001b[1;32m-> 7402\u001b[1;33m                 \u001b[1;32mraise\u001b[0m \u001b[0mValueError\u001b[0m\u001b[1;33m(\u001b[0m\u001b[1;34m'arrays must all be same length'\u001b[0m\u001b[1;33m)\u001b[0m\u001b[1;33m\u001b[0m\u001b[1;33m\u001b[0m\u001b[0m\n\u001b[0m\u001b[0;32m   7403\u001b[0m \u001b[1;33m\u001b[0m\u001b[0m\n\u001b[0;32m   7404\u001b[0m             \u001b[1;32mif\u001b[0m \u001b[0mhave_dicts\u001b[0m\u001b[1;33m:\u001b[0m\u001b[1;33m\u001b[0m\u001b[1;33m\u001b[0m\u001b[0m\n",
      "\u001b[1;31mValueError\u001b[0m: arrays must all be same length"
     ]
    }
   ],
   "source": [
    "directorydf = pd.DataFrame({'displayname' : displayname, 'ucsfeduworkingtitle' : ucsfeduworkingtitle, \n",
    "                           'mail' : mail, 'givenname' : givenname, 'sn' : sn, 'departmentname' : \n",
    "                            departmentname, 'ucsfedudegree' : ucsfedudegree})"
   ]
  },
  {
   "cell_type": "code",
   "execution_count": 16,
   "metadata": {},
   "outputs": [
    {
     "ename": "NameError",
     "evalue": "name 'directorydf' is not defined",
     "output_type": "error",
     "traceback": [
      "\u001b[1;31m---------------------------------------------------------------------------\u001b[0m",
      "\u001b[1;31mNameError\u001b[0m                                 Traceback (most recent call last)",
      "\u001b[1;32m<ipython-input-16-48b4be1e6c74>\u001b[0m in \u001b[0;36m<module>\u001b[1;34m\u001b[0m\n\u001b[1;32m----> 1\u001b[1;33m \u001b[0mdirectorydf\u001b[0m\u001b[1;33m\u001b[0m\u001b[1;33m\u001b[0m\u001b[0m\n\u001b[0m",
      "\u001b[1;31mNameError\u001b[0m: name 'directorydf' is not defined"
     ]
    }
   ],
   "source": [
    "directorydf"
   ]
  },
  {
   "cell_type": "code",
   "execution_count": 31,
   "metadata": {
    "collapsed": true
   },
   "outputs": [],
   "source": [
    "#use python to write the pandas dataframe to a sql table, then query in sql let Geoff know\n",
    "import pyodbc"
   ]
  },
  {
   "cell_type": "code",
   "execution_count": 70,
   "metadata": {
    "collapsed": true
   },
   "outputs": [],
   "source": [
    "conn = pyodbc.connect('DRIVER={SQL Server};SERVER=RDO-BPJHV32-LT\\SQLEXPRESS01;DATABASE=teamscience')"
   ]
  },
  {
   "cell_type": "code",
   "execution_count": 71,
   "metadata": {
    "collapsed": true
   },
   "outputs": [],
   "source": [
    "#make a cursor to query conn with SQL\n",
    "cursor = conn.cursor()"
   ]
  },
  {
   "cell_type": "code",
   "execution_count": 39,
   "metadata": {},
   "outputs": [
    {
     "data": {
      "text/plain": [
       "<pyodbc.Cursor at 0x1f7f6837210>"
      ]
     },
     "execution_count": 39,
     "metadata": {},
     "output_type": "execute_result"
    }
   ],
   "source": [
    "#testing the connection with simple query\n",
    "cursor.execute(\"select count(*) from investigators\")"
   ]
  },
  {
   "cell_type": "code",
   "execution_count": 45,
   "metadata": {},
   "outputs": [
    {
     "ename": "ProgrammingError",
     "evalue": "('42000', \"[42000] [Microsoft][ODBC SQL Server Driver][SQL Server]Incorrect syntax near the keyword 'select'. (156) (SQLExecDirectW)\")",
     "output_type": "error",
     "traceback": [
      "\u001b[1;31m---------------------------------------------------------------------------\u001b[0m",
      "\u001b[1;31mProgrammingError\u001b[0m                          Traceback (most recent call last)",
      "\u001b[1;32m<ipython-input-45-7a9dc023c186>\u001b[0m in \u001b[0;36m<module>\u001b[1;34m()\u001b[0m\n\u001b[1;32m----> 1\u001b[1;33m \u001b[0mcursor\u001b[0m\u001b[1;33m.\u001b[0m\u001b[0mexecute\u001b[0m\u001b[1;33m(\u001b[0m\u001b[1;34m\"insert into directory (id, departmentname, displayname, givenname, mail, sn, ucsfedudegree, ucsfworkingtitle select (directorydf)\"\u001b[0m\u001b[1;33m)\u001b[0m\u001b[1;33m\u001b[0m\u001b[0m\n\u001b[0m",
      "\u001b[1;31mProgrammingError\u001b[0m: ('42000', \"[42000] [Microsoft][ODBC SQL Server Driver][SQL Server]Incorrect syntax near the keyword 'select'. (156) (SQLExecDirectW)\")"
     ]
    }
   ],
   "source": [
    "#cursor.execute(\"insert into directory (id, departmentname, displayname, givenname, mail, sn, ucsfedudegree, ucsfworkingtitle select directorydf\")"
   ]
  },
  {
   "cell_type": "code",
   "execution_count": 72,
   "metadata": {},
   "outputs": [
    {
     "data": {
      "text/plain": [
       "<pyodbc.Cursor at 0x1f7f7f88cf0>"
      ]
     },
     "execution_count": 72,
     "metadata": {},
     "output_type": "execute_result"
    }
   ],
   "source": [
    "cursor.execute(\"insert into directory (departmentname, sn) values ('pp', 'fakename')\")"
   ]
  },
  {
   "cell_type": "code",
   "execution_count": 74,
   "metadata": {},
   "outputs": [
    {
     "ename": "ProgrammingError",
     "evalue": "Attempt to use a closed connection.",
     "output_type": "error",
     "traceback": [
      "\u001b[1;31m---------------------------------------------------------------------------\u001b[0m",
      "\u001b[1;31mProgrammingError\u001b[0m                          Traceback (most recent call last)",
      "\u001b[1;32m<ipython-input-74-84f8fb7b9726>\u001b[0m in \u001b[0;36m<module>\u001b[1;34m()\u001b[0m\n\u001b[0;32m      1\u001b[0m \u001b[1;31m#always close the connection at the end\u001b[0m\u001b[1;33m\u001b[0m\u001b[1;33m\u001b[0m\u001b[0m\n\u001b[1;32m----> 2\u001b[1;33m \u001b[0mconn\u001b[0m\u001b[1;33m.\u001b[0m\u001b[0mclose\u001b[0m\u001b[1;33m(\u001b[0m\u001b[1;33m)\u001b[0m\u001b[1;33m\u001b[0m\u001b[0m\n\u001b[0m",
      "\u001b[1;31mProgrammingError\u001b[0m: Attempt to use a closed connection."
     ]
    }
   ],
   "source": [
    "#always close the connection at the end\n",
    "conn.close()"
   ]
  },
  {
   "cell_type": "code",
   "execution_count": 67,
   "metadata": {},
   "outputs": [
    {
     "ename": "DatabaseError",
     "evalue": "Execution failed on sql 'SELECT name FROM sqlite_master WHERE type='table' AND name=?;': ('42S02', \"[42S02] [Microsoft][ODBC SQL Server Driver][SQL Server]Invalid object name 'sqlite_master'. (208) (SQLExecDirectW)\")",
     "output_type": "error",
     "traceback": [
      "\u001b[1;31m---------------------------------------------------------------------------\u001b[0m",
      "\u001b[1;31mProgrammingError\u001b[0m                          Traceback (most recent call last)",
      "\u001b[1;32m~\\AppData\\Local\\Continuum\\anaconda3\\lib\\site-packages\\pandas\\io\\sql.py\u001b[0m in \u001b[0;36mexecute\u001b[1;34m(self, *args, **kwargs)\u001b[0m\n\u001b[0;32m   1403\u001b[0m             \u001b[1;32melse\u001b[0m\u001b[1;33m:\u001b[0m\u001b[1;33m\u001b[0m\u001b[0m\n\u001b[1;32m-> 1404\u001b[1;33m                 \u001b[0mcur\u001b[0m\u001b[1;33m.\u001b[0m\u001b[0mexecute\u001b[0m\u001b[1;33m(\u001b[0m\u001b[1;33m*\u001b[0m\u001b[0margs\u001b[0m\u001b[1;33m)\u001b[0m\u001b[1;33m\u001b[0m\u001b[0m\n\u001b[0m\u001b[0;32m   1405\u001b[0m             \u001b[1;32mreturn\u001b[0m \u001b[0mcur\u001b[0m\u001b[1;33m\u001b[0m\u001b[0m\n",
      "\u001b[1;31mProgrammingError\u001b[0m: ('42S02', \"[42S02] [Microsoft][ODBC SQL Server Driver][SQL Server]Invalid object name 'sqlite_master'. (208) (SQLExecDirectW)\")",
      "\nDuring handling of the above exception, another exception occurred:\n",
      "\u001b[1;31mDatabaseError\u001b[0m                             Traceback (most recent call last)",
      "\u001b[1;32m<ipython-input-67-1da37ba5b89f>\u001b[0m in \u001b[0;36m<module>\u001b[1;34m()\u001b[0m\n\u001b[1;32m----> 1\u001b[1;33m \u001b[0mdirectorydf\u001b[0m\u001b[1;33m.\u001b[0m\u001b[0mto_sql\u001b[0m\u001b[1;33m(\u001b[0m\u001b[1;34m\"directory\"\u001b[0m\u001b[1;33m,\u001b[0m \u001b[0mconn\u001b[0m\u001b[1;33m,\u001b[0m \u001b[0mif_exists\u001b[0m\u001b[1;33m=\u001b[0m\u001b[1;34m\"replace\"\u001b[0m\u001b[1;33m)\u001b[0m\u001b[1;33m\u001b[0m\u001b[0m\n\u001b[0m",
      "\u001b[1;32m~\\AppData\\Local\\Continuum\\anaconda3\\lib\\site-packages\\pandas\\core\\generic.py\u001b[0m in \u001b[0;36mto_sql\u001b[1;34m(self, name, con, flavor, schema, if_exists, index, index_label, chunksize, dtype)\u001b[0m\n\u001b[0;32m   1360\u001b[0m         sql.to_sql(self, name, con, flavor=flavor, schema=schema,\n\u001b[0;32m   1361\u001b[0m                    \u001b[0mif_exists\u001b[0m\u001b[1;33m=\u001b[0m\u001b[0mif_exists\u001b[0m\u001b[1;33m,\u001b[0m \u001b[0mindex\u001b[0m\u001b[1;33m=\u001b[0m\u001b[0mindex\u001b[0m\u001b[1;33m,\u001b[0m \u001b[0mindex_label\u001b[0m\u001b[1;33m=\u001b[0m\u001b[0mindex_label\u001b[0m\u001b[1;33m,\u001b[0m\u001b[1;33m\u001b[0m\u001b[0m\n\u001b[1;32m-> 1362\u001b[1;33m                    chunksize=chunksize, dtype=dtype)\n\u001b[0m\u001b[0;32m   1363\u001b[0m \u001b[1;33m\u001b[0m\u001b[0m\n\u001b[0;32m   1364\u001b[0m     \u001b[1;32mdef\u001b[0m \u001b[0mto_pickle\u001b[0m\u001b[1;33m(\u001b[0m\u001b[0mself\u001b[0m\u001b[1;33m,\u001b[0m \u001b[0mpath\u001b[0m\u001b[1;33m,\u001b[0m \u001b[0mcompression\u001b[0m\u001b[1;33m=\u001b[0m\u001b[1;34m'infer'\u001b[0m\u001b[1;33m)\u001b[0m\u001b[1;33m:\u001b[0m\u001b[1;33m\u001b[0m\u001b[0m\n",
      "\u001b[1;32m~\\AppData\\Local\\Continuum\\anaconda3\\lib\\site-packages\\pandas\\io\\sql.py\u001b[0m in \u001b[0;36mto_sql\u001b[1;34m(frame, name, con, flavor, schema, if_exists, index, index_label, chunksize, dtype)\u001b[0m\n\u001b[0;32m    469\u001b[0m     pandas_sql.to_sql(frame, name, if_exists=if_exists, index=index,\n\u001b[0;32m    470\u001b[0m                       \u001b[0mindex_label\u001b[0m\u001b[1;33m=\u001b[0m\u001b[0mindex_label\u001b[0m\u001b[1;33m,\u001b[0m \u001b[0mschema\u001b[0m\u001b[1;33m=\u001b[0m\u001b[0mschema\u001b[0m\u001b[1;33m,\u001b[0m\u001b[1;33m\u001b[0m\u001b[0m\n\u001b[1;32m--> 471\u001b[1;33m                       chunksize=chunksize, dtype=dtype)\n\u001b[0m\u001b[0;32m    472\u001b[0m \u001b[1;33m\u001b[0m\u001b[0m\n\u001b[0;32m    473\u001b[0m \u001b[1;33m\u001b[0m\u001b[0m\n",
      "\u001b[1;32m~\\AppData\\Local\\Continuum\\anaconda3\\lib\\site-packages\\pandas\\io\\sql.py\u001b[0m in \u001b[0;36mto_sql\u001b[1;34m(self, frame, name, if_exists, index, index_label, schema, chunksize, dtype)\u001b[0m\n\u001b[0;32m   1503\u001b[0m                             \u001b[0mif_exists\u001b[0m\u001b[1;33m=\u001b[0m\u001b[0mif_exists\u001b[0m\u001b[1;33m,\u001b[0m \u001b[0mindex_label\u001b[0m\u001b[1;33m=\u001b[0m\u001b[0mindex_label\u001b[0m\u001b[1;33m,\u001b[0m\u001b[1;33m\u001b[0m\u001b[0m\n\u001b[0;32m   1504\u001b[0m                             dtype=dtype)\n\u001b[1;32m-> 1505\u001b[1;33m         \u001b[0mtable\u001b[0m\u001b[1;33m.\u001b[0m\u001b[0mcreate\u001b[0m\u001b[1;33m(\u001b[0m\u001b[1;33m)\u001b[0m\u001b[1;33m\u001b[0m\u001b[0m\n\u001b[0m\u001b[0;32m   1506\u001b[0m         \u001b[0mtable\u001b[0m\u001b[1;33m.\u001b[0m\u001b[0minsert\u001b[0m\u001b[1;33m(\u001b[0m\u001b[0mchunksize\u001b[0m\u001b[1;33m)\u001b[0m\u001b[1;33m\u001b[0m\u001b[0m\n\u001b[0;32m   1507\u001b[0m \u001b[1;33m\u001b[0m\u001b[0m\n",
      "\u001b[1;32m~\\AppData\\Local\\Continuum\\anaconda3\\lib\\site-packages\\pandas\\io\\sql.py\u001b[0m in \u001b[0;36mcreate\u001b[1;34m(self)\u001b[0m\n\u001b[0;32m    584\u001b[0m \u001b[1;33m\u001b[0m\u001b[0m\n\u001b[0;32m    585\u001b[0m     \u001b[1;32mdef\u001b[0m \u001b[0mcreate\u001b[0m\u001b[1;33m(\u001b[0m\u001b[0mself\u001b[0m\u001b[1;33m)\u001b[0m\u001b[1;33m:\u001b[0m\u001b[1;33m\u001b[0m\u001b[0m\n\u001b[1;32m--> 586\u001b[1;33m         \u001b[1;32mif\u001b[0m \u001b[0mself\u001b[0m\u001b[1;33m.\u001b[0m\u001b[0mexists\u001b[0m\u001b[1;33m(\u001b[0m\u001b[1;33m)\u001b[0m\u001b[1;33m:\u001b[0m\u001b[1;33m\u001b[0m\u001b[0m\n\u001b[0m\u001b[0;32m    587\u001b[0m             \u001b[1;32mif\u001b[0m \u001b[0mself\u001b[0m\u001b[1;33m.\u001b[0m\u001b[0mif_exists\u001b[0m \u001b[1;33m==\u001b[0m \u001b[1;34m'fail'\u001b[0m\u001b[1;33m:\u001b[0m\u001b[1;33m\u001b[0m\u001b[0m\n\u001b[0;32m    588\u001b[0m                 \u001b[1;32mraise\u001b[0m \u001b[0mValueError\u001b[0m\u001b[1;33m(\u001b[0m\u001b[1;34m\"Table '%s' already exists.\"\u001b[0m \u001b[1;33m%\u001b[0m \u001b[0mself\u001b[0m\u001b[1;33m.\u001b[0m\u001b[0mname\u001b[0m\u001b[1;33m)\u001b[0m\u001b[1;33m\u001b[0m\u001b[0m\n",
      "\u001b[1;32m~\\AppData\\Local\\Continuum\\anaconda3\\lib\\site-packages\\pandas\\io\\sql.py\u001b[0m in \u001b[0;36mexists\u001b[1;34m(self)\u001b[0m\n\u001b[0;32m    572\u001b[0m \u001b[1;33m\u001b[0m\u001b[0m\n\u001b[0;32m    573\u001b[0m     \u001b[1;32mdef\u001b[0m \u001b[0mexists\u001b[0m\u001b[1;33m(\u001b[0m\u001b[0mself\u001b[0m\u001b[1;33m)\u001b[0m\u001b[1;33m:\u001b[0m\u001b[1;33m\u001b[0m\u001b[0m\n\u001b[1;32m--> 574\u001b[1;33m         \u001b[1;32mreturn\u001b[0m \u001b[0mself\u001b[0m\u001b[1;33m.\u001b[0m\u001b[0mpd_sql\u001b[0m\u001b[1;33m.\u001b[0m\u001b[0mhas_table\u001b[0m\u001b[1;33m(\u001b[0m\u001b[0mself\u001b[0m\u001b[1;33m.\u001b[0m\u001b[0mname\u001b[0m\u001b[1;33m,\u001b[0m \u001b[0mself\u001b[0m\u001b[1;33m.\u001b[0m\u001b[0mschema\u001b[0m\u001b[1;33m)\u001b[0m\u001b[1;33m\u001b[0m\u001b[0m\n\u001b[0m\u001b[0;32m    575\u001b[0m \u001b[1;33m\u001b[0m\u001b[0m\n\u001b[0;32m    576\u001b[0m     \u001b[1;32mdef\u001b[0m \u001b[0msql_schema\u001b[0m\u001b[1;33m(\u001b[0m\u001b[0mself\u001b[0m\u001b[1;33m)\u001b[0m\u001b[1;33m:\u001b[0m\u001b[1;33m\u001b[0m\u001b[0m\n",
      "\u001b[1;32m~\\AppData\\Local\\Continuum\\anaconda3\\lib\\site-packages\\pandas\\io\\sql.py\u001b[0m in \u001b[0;36mhas_table\u001b[1;34m(self, name, schema)\u001b[0m\n\u001b[0;32m   1515\u001b[0m                  \"WHERE type='table' AND name=%s;\") % wld\n\u001b[0;32m   1516\u001b[0m \u001b[1;33m\u001b[0m\u001b[0m\n\u001b[1;32m-> 1517\u001b[1;33m         \u001b[1;32mreturn\u001b[0m \u001b[0mlen\u001b[0m\u001b[1;33m(\u001b[0m\u001b[0mself\u001b[0m\u001b[1;33m.\u001b[0m\u001b[0mexecute\u001b[0m\u001b[1;33m(\u001b[0m\u001b[0mquery\u001b[0m\u001b[1;33m,\u001b[0m \u001b[1;33m[\u001b[0m\u001b[0mname\u001b[0m\u001b[1;33m,\u001b[0m \u001b[1;33m]\u001b[0m\u001b[1;33m)\u001b[0m\u001b[1;33m.\u001b[0m\u001b[0mfetchall\u001b[0m\u001b[1;33m(\u001b[0m\u001b[1;33m)\u001b[0m\u001b[1;33m)\u001b[0m \u001b[1;33m>\u001b[0m \u001b[1;36m0\u001b[0m\u001b[1;33m\u001b[0m\u001b[0m\n\u001b[0m\u001b[0;32m   1518\u001b[0m \u001b[1;33m\u001b[0m\u001b[0m\n\u001b[0;32m   1519\u001b[0m     \u001b[1;32mdef\u001b[0m \u001b[0mget_table\u001b[0m\u001b[1;33m(\u001b[0m\u001b[0mself\u001b[0m\u001b[1;33m,\u001b[0m \u001b[0mtable_name\u001b[0m\u001b[1;33m,\u001b[0m \u001b[0mschema\u001b[0m\u001b[1;33m=\u001b[0m\u001b[1;32mNone\u001b[0m\u001b[1;33m)\u001b[0m\u001b[1;33m:\u001b[0m\u001b[1;33m\u001b[0m\u001b[0m\n",
      "\u001b[1;32m~\\AppData\\Local\\Continuum\\anaconda3\\lib\\site-packages\\pandas\\io\\sql.py\u001b[0m in \u001b[0;36mexecute\u001b[1;34m(self, *args, **kwargs)\u001b[0m\n\u001b[0;32m   1414\u001b[0m             ex = DatabaseError(\n\u001b[0;32m   1415\u001b[0m                 \"Execution failed on sql '%s': %s\" % (args[0], exc))\n\u001b[1;32m-> 1416\u001b[1;33m             \u001b[0mraise_with_traceback\u001b[0m\u001b[1;33m(\u001b[0m\u001b[0mex\u001b[0m\u001b[1;33m)\u001b[0m\u001b[1;33m\u001b[0m\u001b[0m\n\u001b[0m\u001b[0;32m   1417\u001b[0m \u001b[1;33m\u001b[0m\u001b[0m\n\u001b[0;32m   1418\u001b[0m     \u001b[1;33m@\u001b[0m\u001b[0mstaticmethod\u001b[0m\u001b[1;33m\u001b[0m\u001b[0m\n",
      "\u001b[1;32m~\\AppData\\Local\\Continuum\\anaconda3\\lib\\site-packages\\pandas\\compat\\__init__.py\u001b[0m in \u001b[0;36mraise_with_traceback\u001b[1;34m(exc, traceback)\u001b[0m\n\u001b[0;32m    342\u001b[0m         \u001b[1;32mif\u001b[0m \u001b[0mtraceback\u001b[0m \u001b[1;33m==\u001b[0m \u001b[0mEllipsis\u001b[0m\u001b[1;33m:\u001b[0m\u001b[1;33m\u001b[0m\u001b[0m\n\u001b[0;32m    343\u001b[0m             \u001b[0m_\u001b[0m\u001b[1;33m,\u001b[0m \u001b[0m_\u001b[0m\u001b[1;33m,\u001b[0m \u001b[0mtraceback\u001b[0m \u001b[1;33m=\u001b[0m \u001b[0msys\u001b[0m\u001b[1;33m.\u001b[0m\u001b[0mexc_info\u001b[0m\u001b[1;33m(\u001b[0m\u001b[1;33m)\u001b[0m\u001b[1;33m\u001b[0m\u001b[0m\n\u001b[1;32m--> 344\u001b[1;33m         \u001b[1;32mraise\u001b[0m \u001b[0mexc\u001b[0m\u001b[1;33m.\u001b[0m\u001b[0mwith_traceback\u001b[0m\u001b[1;33m(\u001b[0m\u001b[0mtraceback\u001b[0m\u001b[1;33m)\u001b[0m\u001b[1;33m\u001b[0m\u001b[0m\n\u001b[0m\u001b[0;32m    345\u001b[0m \u001b[1;32melse\u001b[0m\u001b[1;33m:\u001b[0m\u001b[1;33m\u001b[0m\u001b[0m\n\u001b[0;32m    346\u001b[0m     \u001b[1;31m# this version of raise is a syntax error in Python 3\u001b[0m\u001b[1;33m\u001b[0m\u001b[1;33m\u001b[0m\u001b[0m\n",
      "\u001b[1;32m~\\AppData\\Local\\Continuum\\anaconda3\\lib\\site-packages\\pandas\\io\\sql.py\u001b[0m in \u001b[0;36mexecute\u001b[1;34m(self, *args, **kwargs)\u001b[0m\n\u001b[0;32m   1402\u001b[0m                 \u001b[0mcur\u001b[0m\u001b[1;33m.\u001b[0m\u001b[0mexecute\u001b[0m\u001b[1;33m(\u001b[0m\u001b[1;33m*\u001b[0m\u001b[0margs\u001b[0m\u001b[1;33m,\u001b[0m \u001b[1;33m**\u001b[0m\u001b[0mkwargs\u001b[0m\u001b[1;33m)\u001b[0m\u001b[1;33m\u001b[0m\u001b[0m\n\u001b[0;32m   1403\u001b[0m             \u001b[1;32melse\u001b[0m\u001b[1;33m:\u001b[0m\u001b[1;33m\u001b[0m\u001b[0m\n\u001b[1;32m-> 1404\u001b[1;33m                 \u001b[0mcur\u001b[0m\u001b[1;33m.\u001b[0m\u001b[0mexecute\u001b[0m\u001b[1;33m(\u001b[0m\u001b[1;33m*\u001b[0m\u001b[0margs\u001b[0m\u001b[1;33m)\u001b[0m\u001b[1;33m\u001b[0m\u001b[0m\n\u001b[0m\u001b[0;32m   1405\u001b[0m             \u001b[1;32mreturn\u001b[0m \u001b[0mcur\u001b[0m\u001b[1;33m\u001b[0m\u001b[0m\n\u001b[0;32m   1406\u001b[0m         \u001b[1;32mexcept\u001b[0m \u001b[0mException\u001b[0m \u001b[1;32mas\u001b[0m \u001b[0mexc\u001b[0m\u001b[1;33m:\u001b[0m\u001b[1;33m\u001b[0m\u001b[0m\n",
      "\u001b[1;31mDatabaseError\u001b[0m: Execution failed on sql 'SELECT name FROM sqlite_master WHERE type='table' AND name=?;': ('42S02', \"[42S02] [Microsoft][ODBC SQL Server Driver][SQL Server]Invalid object name 'sqlite_master'. (208) (SQLExecDirectW)\")"
     ]
    }
   ],
   "source": [
    "directorydf.to_sql(\"directory\", conn, if_exists=\"replace\")"
   ]
  },
  {
   "cell_type": "code",
   "execution_count": null,
   "metadata": {
    "collapsed": true
   },
   "outputs": [],
   "source": []
  }
 ],
 "metadata": {
  "kernelspec": {
   "display_name": "Python 3",
   "language": "python",
   "name": "python3"
  },
  "language_info": {
   "codemirror_mode": {
    "name": "ipython",
    "version": 3
   },
   "file_extension": ".py",
   "mimetype": "text/x-python",
   "name": "python",
   "nbconvert_exporter": "python",
   "pygments_lexer": "ipython3",
   "version": "3.7.1"
  }
 },
 "nbformat": 4,
 "nbformat_minor": 2
}
